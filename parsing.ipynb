{
 "cells": [
  {
   "cell_type": "code",
   "execution_count": null,
   "id": "7e060607-65cb-44d9-b2a8-5be5fdf55f0a",
   "metadata": {},
   "outputs": [],
   "source": [
    "f = open('gemchambers.txt', 'r')\n",
    "rawId_dict = {}"
   ]
  },
  {
   "cell_type": "code",
   "execution_count": null,
   "id": "70dc415d",
   "metadata": {},
   "outputs": [],
   "source": [
    "rawId_list = []\n",
    "chamber_list = []\n",
    "for i in f.readlines():\n",
    "    line = i.strip()\n",
    "    if line.startswith('what chamber'):\n",
    "        rawId_list.append(line.split(' ')[-1])\n",
    "    if line.startswith('Doing chamber'):\n",
    "        chamber_list.append(line.split(' ')[-1])\n",
    "rawId_list.extend(('687882560', '687882816', '687883072'))\n",
    "chamber_list.extend(['-11221', '-11231', '-11241'])\n",
    "for idx,x in enumerate(rawId_list):\n",
    "    rawId_dict.update({rawId_list[idx]: chamber_list[idx]})\n",
    "\n",
    "rawId_dict.update({'-11221': '687882560'})\n",
    "rawId_dict.update({'-11231': '687882816'})\n",
    "rawId_dict.update({'-11241': '687883072'})\n",
    "f.close()\n",
    "print(chamber_list)"
   ]
  },
  {
   "cell_type": "code",
   "execution_count": 3,
   "id": "6a6e5c2a",
   "metadata": {},
   "outputs": [],
   "source": [
    "g = open('gemchamber_list.txt', 'w')\n",
    "for k in sorted(rawId_dict.items()):\n",
    "    endcap = '-1' if int(k[1]) < 0 else '+1'\n",
    "    st = int((abs(int(k[1]))%10000)/1000)\n",
    "    # ch = int((abs(int(k[1]))%1000)/10)\n",
    "    lay = abs(int(k[1]))%10\n",
    "    new_detid = str(abs(int(k[1][:-1])))\n",
    "    ch = new_detid[3:]\n",
    "    newline = 'r{} st{} ch{} lay{} : {}\\n'.format(endcap, st, ch, lay, k[0])\n",
    "    # print(newline)\n",
    "    # g.writelines(newline)\n",
    "\n",
    "g.close()"
   ]
  },
  {
   "cell_type": "code",
   "execution_count": null,
   "id": "c5203553",
   "metadata": {},
   "outputs": [],
   "source": []
  },
  {
   "cell_type": "code",
   "execution_count": null,
   "id": "5d7ad542",
   "metadata": {},
   "outputs": [],
   "source": [
    "#################\n",
    "h = open('gemchamber_list_fixed.txt', 'r')\n",
    "\n",
    "!pwd\n",
    "!ls ./../../Downloads/*GEM*.xml\n",
    "\n",
    "import xml.etree.ElementTree as ET\n",
    "\n",
    "xml_2024 = ET.parse('./../../Downloads/GEMAlignment_mc2024_v1.xml')\n",
    "xml_2025 = ET.parse('./../../Downloads/GEMAlignment_mc2025_v1.xml')\n",
    "xml_2025_cand = ET.parse('./../../Downloads/2025_mc_test1_GEMAlignmentRcd_142X_mcRun3_2025_realistic_Candidate_2025_01_08_09_08_01.xml')"
   ]
  },
  {
   "cell_type": "code",
   "execution_count": null,
   "id": "f9783b06-aa83-4778-b41e-5660a7f591de",
   "metadata": {},
   "outputs": [],
   "source": [
    "root_2024 = xml_2024.getroot()\n",
    "counter_2024 = 0\n",
    "print(f'root_2024.tag: {root_2024.tag}')\n",
    "for raw_id in root_2024.findall(\".//item/m-rawId\"):\n",
    "    #print(raw_id.text)\n",
    "    if raw_id.text in rawId_list:\n",
    "        counter_2024 += 1\n",
    "        idx = rawId_list.index(raw_id.text)\n",
    "        print(f'{counter_2024} rawId {raw_id.text} is in db file and is chamber {chamber_list[idx]}')"
   ]
  },
  {
   "cell_type": "code",
   "execution_count": null,
   "id": "8867f894-d150-4835-a1bb-0e4dca73c69a",
   "metadata": {},
   "outputs": [],
   "source": [
    "root_2025 = xml_2025.getroot()\n",
    "counter_2025 = 0\n",
    "for raw_id in root_2025.findall(\".//item/m-rawId\"):\n",
    "    if raw_id.text in rawId_list:\n",
    "        counter_2025 += 1\n",
    "        idx = rawId_list.index(raw_id.text)\n",
    "        print(f'{counter_2025} rawId {raw_id.text} is in db file and is chamber {chamber_list[idx]}')"
   ]
  },
  {
   "cell_type": "code",
   "execution_count": null,
   "id": "c8fb6fca-a5d8-4d54-8e0b-31625950cd21",
   "metadata": {},
   "outputs": [],
   "source": [
    "root_2025_cand = xml_2025_cand.getroot()\n",
    "counter_2025_cand = 0\n",
    "for raw_id in root_2025_cand.findall(\".//item/m-rawId\"):\n",
    "    if raw_id.text in rawId_list:\n",
    "        counter_2025_cand +=1\n",
    "        idx = rawId_list.index(raw_id.text)\n",
    "        print(f'{counter_2025_cand} rawId {raw_id.text} is in db file and is chamber {chamber_list[idx]}')"
   ]
  },
  {
   "cell_type": "code",
   "execution_count": null,
   "id": "d0c744dd-4e0d-41f3-b696-779566c458bf",
   "metadata": {},
   "outputs": [],
   "source": [
    "import matplotlib.pyplot as plt\n",
    "\n",
    "root = xml_2025_cand.getroot()\n",
    "counter = 0\n",
    "for item in root.findall(\".//item\"):\n",
    "    raw_id = item.find(\"m-rawId\").text\n",
    "    dx = item.find(\"m-translation/dx\").text\n",
    "    dy = item.find(\"m-translation/dy\").text\n",
    "    dz = item.find(\"m-translation/dz\").text\n",
    "    phi = item.find(\"m-eulerAngles/phi_\").text\n",
    "    theta = item.find(\"m-eulerAngles/theta_\").text\n",
    "    psi = item.find(\"m-eulerAngles/psi_\").text\n",
    "    if raw_id in rawId_list:\n",
    "        ch = chamber_list[rawId_list.index(raw_id)]\n",
    "        counter += 1\n",
    "    else:\n",
    "        continue\n",
    "    #print(counter, ch, dx, dy, dz, phi, theta, psi, raw_id)\n",
    "    if ch.startswith('-111'):\n",
    "        plt.plot(abs(int(ch))%1000, float(psi), color='green', linestyle='solid', linewidth = 1, marker='x')\n",
    "    elif ch.startswith('111'):\n",
    "        plt.plot(int(ch)%1000, float(psi), color='green', linestyle='solid', linewidth = 1, marker='+')\n",
    "    elif ch.startswith('-112'):\n",
    "        plt.plot(abs(int(ch))%1000, float(psi), color='red', linestyle='solid', linewidth = 1, marker='x')\n",
    "    elif ch.startswith('112'):\n",
    "        plt.plot(int(ch)%1000, float(psi), color='red', linestyle='solid', linewidth = 1, marker='+')"
   ]
  },
  {
   "cell_type": "code",
   "execution_count": null,
   "id": "c386f3ac-e288-4fcf-94ed-7f33138b0968",
   "metadata": {},
   "outputs": [],
   "source": []
  }
 ],
 "metadata": {
  "kernelspec": {
   "display_name": "Python 3 (ipykernel)",
   "language": "python",
   "name": "python3"
  },
  "language_info": {
   "codemirror_mode": {
    "name": "ipython",
    "version": 3
   },
   "file_extension": ".py",
   "mimetype": "text/x-python",
   "name": "python",
   "nbconvert_exporter": "python",
   "pygments_lexer": "ipython3",
   "version": "3.9.20"
  }
 },
 "nbformat": 4,
 "nbformat_minor": 5
}
