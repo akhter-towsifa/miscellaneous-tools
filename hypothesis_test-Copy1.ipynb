{
 "cells": [
  {
   "cell_type": "code",
   "execution_count": 1,
   "id": "63516a2e",
   "metadata": {},
   "outputs": [],
   "source": [
    "import pandas as pd\n",
    "import numpy as np\n",
    "import matplotlib.pyplot as plt"
   ]
  },
  {
   "cell_type": "code",
   "execution_count": 2,
   "id": "7a2429c2",
   "metadata": {},
   "outputs": [],
   "source": [
    "back_prop_file = pd.read_csv('./Run2025C_muon0_ZMu_150X_dataRun3_Prompt_v1_backprop.csv', header=None)\n",
    "back_prop_file.columns = [\"detId\", \"dx\", \"dy\", \"dz\", \"dphix\", \"dphiy\", \"dphiz\", \"n_muons\"]\n",
    "back_prop_file.insert(1, \"chamber\", [-1*int((abs(i)%1000)/10) if i<0 else int((i%1000)/10) for i in back_prop_file['detId']])\n",
    "back_prop_file.insert(2, \"layer\", [abs(i)%10 for i in back_prop_file['detId']])\n",
    "\n",
    "tracker_prop_file = pd.read_csv('./Run2025C_muon0_ZMu_150X_dataRun3_Prompt_v1_trackerprop.csv', header=None)\n",
    "tracker_prop_file.columns = [\"detId\", \"dx\", \"dy\", \"dz\", \"dphix\", \"dphiy\", \"dphiz\", \"n_muons\"]\n",
    "tracker_prop_file.insert(1, \"chamber\", [-1*int((abs(i)%1000)/10) if i<0 else int((i%1000)/10) for i in tracker_prop_file['detId']])\n",
    "tracker_prop_file.insert(2, \"layer\", [abs(i)%10 for i in tracker_prop_file['detId']])"
   ]
  },
  {
   "cell_type": "code",
   "execution_count": 3,
   "id": "1cdb9192",
   "metadata": {},
   "outputs": [],
   "source": [
    "# print(back_prop_file)\n",
    "# print(tracker_prop_file)"
   ]
  },
  {
   "cell_type": "code",
   "execution_count": null,
   "id": "0549339c",
   "metadata": {},
   "outputs": [],
   "source": [
    "print(back_prop_file['dx']-tracker_prop_file['dx'])"
   ]
  },
  {
   "cell_type": "code",
   "execution_count": 5,
   "id": "501b3945",
   "metadata": {},
   "outputs": [],
   "source": [
    "diff_data = {\n",
    "    'diff_dx': back_prop_file['dx']-tracker_prop_file['dx'],\n",
    "    'diff_dy': back_prop_file['dy']-tracker_prop_file['dy'],\n",
    "    'diff_dphiz': back_prop_file['dphiz']-tracker_prop_file['dphiz'],\n",
    "    'chamber': back_prop_file['chamber'],\n",
    "    'layer': back_prop_file['layer']\n",
    "}\n",
    "diff_prop = pd.DataFrame(data=diff_data)\n",
    "\n",
    "diff_lay_1 = diff_prop[diff_prop['layer']==1]\n",
    "diff_lay_2 = diff_prop[diff_prop['layer']==2]"
   ]
  },
  {
   "cell_type": "code",
   "execution_count": null,
   "id": "a808d26d",
   "metadata": {},
   "outputs": [],
   "source": [
    "#x\n",
    "\n",
    "fig_x, ax_x = plt.subplots(figsize=(10, 5), layout='constrained')\n",
    "ax_x.plot([-36,36], [0,0], '--g', label='0 diff' )\n",
    "ax_x.plot([-4,-4], [-0.2,0.3], '--r')\n",
    "ax_x.plot([15,15], [-0.2,0.3], '--r')\n",
    "ax_x.plot([-6,-6], [0,0], 'xb')\n",
    "ax_x.plot([-7,-7], [0,0], 'xb')\n",
    "ax_x.plot([-8,-8], [0,0], 'xb')\n",
    "ax_x.scatter(diff_lay_1['chamber'], diff_lay_1['diff_dx'], label='layer 1')\n",
    "ax_x.scatter(diff_lay_2['chamber'], diff_lay_2['diff_dx'], label='layer 2')\n",
    "\n",
    "ax_x.set_xlabel('GE(+/-) 1/1 chamber')\n",
    "ax_x.set_ylabel('x difference [in cm]')\n",
    "ax_x.set_title('Difference in x (back prop - tracker prop) over GE1/1 chambers')\n",
    "# ax_x.axis([-37,37, -0.3, 0.3])\n",
    "ax_x.grid(True)\n",
    "ax_x.legend()\n",
    "\n",
    "plt.savefig('dx.pdf')"
   ]
  },
  {
   "cell_type": "code",
   "execution_count": null,
   "id": "4dafecd1",
   "metadata": {},
   "outputs": [],
   "source": [
    "'''\n",
    "Paired sample: https://www.ncl.ac.uk/webtemplate/ask-assets/external/maths-resources/statistics/hypothesis-testing/hypothesis-testing-with-the-student-t-distribution.html\n",
    "t-table: https://www.sjsu.edu/faculty/gerstman/StatPrimer/t-table.pdf   \n",
    "\n",
    "null hypothesis, h0: diff = 0\n",
    "alternate hypo, h1: diff != 0\n",
    "\n",
    "at 1% significance level (alpha = 0.01)\n",
    "\n",
    "negative t-value indicated that the observed sample mean is smaller than the hypothesized sample mean\n",
    "'''"
   ]
  },
  {
   "cell_type": "code",
   "execution_count": null,
   "id": "f64e2b77",
   "metadata": {},
   "outputs": [],
   "source": [
    "sum_of_diff_dx = diff_prop['diff_dx'].sum()\n",
    "average_diff_dx = sum_of_diff_dx / len(diff_prop['chamber'])\n",
    "print('sum_of_diff_dx', sum_of_diff_dx, ', average_diff_dx', average_diff_dx)\n",
    "\n",
    "diff_dx_avgDiff_squared = []\n",
    "for d in diff_prop['diff_dx']:\n",
    "    diff_dx_avgDiff_squared.append( (d-average_diff_dx)**2 )\n",
    "\n",
    "sum_diff_dx_avgDiff_squared = sum(diff_dx_avgDiff_squared)\n",
    "\n",
    "diff_dx_std_dev = np.sqrt(sum_diff_dx_avgDiff_squared / ( len(diff_prop['chamber'])-1 ) )\n",
    "print('diff_dx_std_dev', diff_dx_std_dev)\n",
    "\n",
    "#test statistics, t_dx\n",
    "t_dx = ( average_diff_dx - 0 ) / ( diff_dx_std_dev / np.sqrt( len(diff_prop['chamber']) ) )\n",
    "print('t statistics', t_dx)\n",
    "print('at 1% significance level if ndof=100, t_0.01_100 = 2.626')\n",
    "print(f'if {round(t_dx, 4)} is in the region of rejection, then the null hypothesis will be rejected.')\n",
    "print(f' i.e. if {round(t_dx,4)}<-2.626 or {abs(round(t_dx,4))}>2.626')\n",
    "print(f'if {t_dx} is not in the region of rejection then null hypothesis is not rejected, and for us it means that we can say that the dx values in the two prop type of samples are comparable at 1% significance level')"
   ]
  },
  {
   "cell_type": "code",
   "execution_count": 27,
   "id": "298cbbec",
   "metadata": {},
   "outputs": [],
   "source": []
  },
  {
   "cell_type": "code",
   "execution_count": null,
   "id": "300ca8f1",
   "metadata": {},
   "outputs": [],
   "source": []
  },
  {
   "cell_type": "code",
   "execution_count": null,
   "id": "647a7aed",
   "metadata": {},
   "outputs": [],
   "source": []
  },
  {
   "cell_type": "code",
   "execution_count": null,
   "id": "625186d3",
   "metadata": {},
   "outputs": [],
   "source": [
    "#y\n",
    "\n",
    "fig_y, ax_y = plt.subplots(figsize=(10, 5), layout='constrained')\n",
    "ax_y.plot([-36,36], [0,0], '--g', label='0 diff' )\n",
    "ax_y.plot([-4,-4], [-0.5,0.6], '--r')\n",
    "ax_y.plot([15,15], [-0.5,0.6], '--r')\n",
    "ax_y.plot([-6,-6], [0,0], 'xb')\n",
    "ax_y.plot([-7,-7], [0,0], 'xb')\n",
    "ax_y.plot([-8,-8], [0,0], 'xb')\n",
    "ax_y.scatter(diff_lay_1['chamber'], diff_lay_1['diff_dy'], label='layer 1')\n",
    "ax_y.scatter(diff_lay_2['chamber'], diff_lay_2['diff_dy'], label='layer 2')\n",
    "\n",
    "ax_y.set_xlabel('GE(+/-) 1/1 chamber')\n",
    "ax_y.set_ylabel('y difference [in cm]')\n",
    "ax_y.set_title('Difference in y (back prop - tracker prop) over GE1/1 chambers')\n",
    "# ax_y.axis([-37,37, -0.3, 0.3])\n",
    "ax_y.grid(True)\n",
    "ax_y.legend()\n",
    "\n",
    "plt.savefig('dy.pdf')"
   ]
  },
  {
   "cell_type": "code",
   "execution_count": null,
   "id": "6aed1ed7",
   "metadata": {},
   "outputs": [],
   "source": [
    "sum_of_diff_dy = diff_prop['diff_dy'].sum()\n",
    "average_diff_dy = sum_of_diff_dy / len(diff_prop['chamber'])\n",
    "print('sum_of_diff_dy', sum_of_diff_dy, ', average_diff_dy', average_diff_dy)\n",
    "\n",
    "diff_dy_avgDiff_squared = []\n",
    "for d in diff_prop['diff_dy']:\n",
    "    diff_dy_avgDiff_squared.append( (d-average_diff_dy)**2 )\n",
    "\n",
    "sum_diff_dy_avgDiff_squared = sum(diff_dy_avgDiff_squared)\n",
    "\n",
    "diff_dy_std_dev = np.sqrt(sum_diff_dy_avgDiff_squared / ( len(diff_prop['chamber'])-1 ) )\n",
    "print('diff_dy_std_dev', diff_dy_std_dev)\n",
    "\n",
    "#test statistics, t_dy\n",
    "t_dy = ( average_diff_dy - 0 ) / ( diff_dy_std_dev / np.sqrt( len(diff_prop['chamber']) ) )\n",
    "print('t statistics', t_dy)\n",
    "print('at 1% significance level if ndof=100, t_0.01_100 = 2.626')\n",
    "print(f'if {round(t_dy, 4)} is in the region of rejection, then the null hypothesis will be rejected.')\n",
    "print(f' i.e. if {-abs(round(t_dy,4))}<-2.626 or {abs(round(t_dy,4))}>2.626')\n",
    "print(f'if {t_dy} is not in the region of rejection then null hypothesis is not rejected, and for us it means that we can say that the dy values in the two prop type of samples are comparable at 1% significance level')"
   ]
  },
  {
   "cell_type": "code",
   "execution_count": null,
   "id": "935afed3",
   "metadata": {},
   "outputs": [],
   "source": []
  },
  {
   "cell_type": "code",
   "execution_count": null,
   "id": "9426b85b",
   "metadata": {},
   "outputs": [],
   "source": []
  },
  {
   "cell_type": "code",
   "execution_count": null,
   "id": "5770cbc4",
   "metadata": {},
   "outputs": [],
   "source": []
  },
  {
   "cell_type": "code",
   "execution_count": null,
   "id": "2080bc21",
   "metadata": {},
   "outputs": [],
   "source": [
    "#phi_z\n",
    "\n",
    "fig_phiz, ax_phiz = plt.subplots(figsize=(10, 5), layout='constrained')\n",
    "ax_phiz.plot([-36,36], [0,0], '--g', label='0 diff' )\n",
    "ax_phiz.plot([-4,-4], [-0.001,0.00130], '--r')\n",
    "ax_phiz.plot([15,15], [-0.001,0.00130], '--r')\n",
    "ax_phiz.plot([-6,-6], [0,0], 'xb')\n",
    "ax_phiz.plot([-7,-7], [0,0], 'xb')\n",
    "ax_phiz.plot([-8,-8], [0,0], 'xb')\n",
    "ax_phiz.scatter(diff_lay_1['chamber'], diff_lay_1['diff_dphiz'], label='layer 1')\n",
    "ax_phiz.scatter(diff_lay_2['chamber'], diff_lay_2['diff_dphiz'], label='layer 2')\n",
    "\n",
    "ax_phiz.set_xlabel('GE(+/-) 1/1 chamber')\n",
    "ax_phiz.set_ylabel('phi_z difference [in mRad]')\n",
    "ax_phiz.set_title('Difference in phi_z (back prop - tracker prop) over GE1/1 chambers')\n",
    "# ax_phiz.axis([-37,37, -0.3, 0.3])\n",
    "ax_phiz.grid(True)\n",
    "ax_phiz.legend()\n",
    "\n",
    "plt.savefig('dphiz.pdf')"
   ]
  },
  {
   "cell_type": "code",
   "execution_count": null,
   "id": "00c2d946",
   "metadata": {},
   "outputs": [],
   "source": [
    "sum_of_diff_dphiz = diff_prop['diff_dphiz'].sum()\n",
    "average_diff_dphiz = sum_of_diff_dphiz / len(diff_prop['chamber'])\n",
    "print('sum_of_diff_dphiz', sum_of_diff_dphiz, ', average_diff_dphiz', average_diff_dphiz)\n",
    "\n",
    "diff_dphiz_avgDiff_squared = []\n",
    "for d in diff_prop['diff_dphiz']:\n",
    "    diff_dphiz_avgDiff_squared.append( (d-average_diff_dphiz)**2 )\n",
    "\n",
    "sum_diff_dphiz_avgDiff_squared = sum(diff_dphiz_avgDiff_squared)\n",
    "\n",
    "diff_dphiz_std_dev = np.sqrt(sum_diff_dphiz_avgDiff_squared / ( len(diff_prop['chamber'])-1 ) )\n",
    "print('diff_dphiz_std_dev', diff_dphiz_std_dev)\n",
    "\n",
    "#test statistics, t_dphiz\n",
    "t_dphiz = ( average_diff_dphiz - 0 ) / ( diff_dphiz_std_dev / np.sqrt( len(diff_prop['chamber']) ) )\n",
    "print('t statistics', t_dphiz)\n",
    "print('at 1% significance level if ndof=100, t_0.01_100 = 2.626')\n",
    "print(f'if {round(t_dphiz, 4)} is in the region of rejection, then the null hypothesis will be rejected.')\n",
    "print(f' i.e. if {round(t_dphiz,4)}<-2.626 or {abs(round(t_dphiz,4))}>2.626')\n",
    "print(f'if {t_dphiz} is not in the region of rejection then null hypothesis is not rejected, and for us it means that we can say that the dphi_z values in the two prop type of samples are comparable at 1% significance level')"
   ]
  },
  {
   "cell_type": "code",
   "execution_count": null,
   "id": "496b041b",
   "metadata": {},
   "outputs": [],
   "source": []
  }
 ],
 "metadata": {
  "@webio": {
   "lastCommId": null,
   "lastKernelId": null
  },
  "kernelspec": {
   "display_name": "Python 3",
   "language": "python",
   "name": "python3"
  },
  "language_info": {
   "codemirror_mode": {
    "name": "ipython",
    "version": 3
   },
   "file_extension": ".py",
   "mimetype": "text/x-python",
   "name": "python",
   "nbconvert_exporter": "python",
   "pygments_lexer": "ipython3",
   "version": "3.11.9"
  }
 },
 "nbformat": 4,
 "nbformat_minor": 5
}
