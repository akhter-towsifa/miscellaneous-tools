{
  "nbformat": 4,
  "nbformat_minor": 0,
  "metadata": {
    "colab": {
      "provenance": [],
      "collapsed_sections": []
    },
    "kernelspec": {
      "name": "python3",
      "display_name": "Python 3"
    },
    "language_info": {
      "name": "python"
    }
  },
  "cells": [
    {
      "cell_type": "markdown",
      "source": [
        "The following code is to calculate the invariant mass given tranverse momentum, angle ϕ, and pseudorapidity η.\\\n",
        "--Towsifa Akhter"
      ],
      "metadata": {
        "id": "WZL2EoZWoE6S"
      }
    },
    {
      "cell_type": "code",
      "execution_count": null,
      "metadata": {
        "id": "GdYpoDOgoBsl"
      },
      "outputs": [],
      "source": [
        "import numpy as np"
      ]
    },
    {
      "cell_type": "code",
      "source": [
        "'''\n",
        "muon track variables\n",
        "list = [muon_pt (in GeV), phi (in radians), eta]\n",
        "'''\n",
        "muon_0 = [35.8469, 0.567136, -1.93641]\n",
        "muon_1 = [32.624, -2.59705, -0.370594]"
      ],
      "metadata": {
        "id": "WWMztvLnoedM"
      },
      "execution_count": null,
      "outputs": []
    },
    {
      "cell_type": "code",
      "source": [
        "x = muon_0[0] * np.cos(muon_0[1]) + muon_1[0] *np.cos(muon_1[1])\n",
        "y = muon_0[0] * np.sin(muon_0[1]) + muon_1[0] *np.sin(muon_1[1])\n",
        "z = muon_0[0] * np.sinh(muon_0[2]) + muon_1[0] *np.sinh(muon_1[2])\n",
        "t = np.sqrt(\n",
        "    (muon_0[0] * np.cos(muon_0[1]))**2 + (muon_0[0] * np.sin(muon_0[1]))**2 + (muon_0[0] * np.sinh(muon_0[2]))**2\n",
        ") + np.sqrt(\n",
        "    (muon_1[0] * np.cos(muon_1[1]))**2 + (muon_1[0] * np.sin(muon_1[1]))**2 + (muon_1[0] * np.sinh(muon_1[2]))**2\n",
        ")"
      ],
      "metadata": {
        "id": "N8XkvRQhpfrg"
      },
      "execution_count": null,
      "outputs": []
    },
    {
      "cell_type": "code",
      "source": [
        "M_inv = np.sqrt(t**2 - x**2 - y**2 - z**2)\n",
        "print(\"x:\", x, \", y:\", y, \", z:\", z, \", t:\", t)\n",
        "print(\"invariant mass (in GeV):\", M_inv)"
      ],
      "metadata": {
        "colab": {
          "base_uri": "https://localhost:8080/"
        },
        "id": "JZH4ialuqGvQ",
        "outputId": "78fa960c-c3c8-425d-e187-8b82023b1923"
      },
      "execution_count": null,
      "outputs": [
        {
          "output_type": "stream",
          "name": "stdout",
          "text": [
            "x: 2.329412965134651 , y: 2.3575115523392647 , z: -134.0618430408292 , t: 161.75284598242553\n",
            "invariant mass (in GeV): 90.44568203307884\n"
          ]
        }
      ]
    },
    {
      "cell_type": "code",
      "source": [],
      "metadata": {
        "id": "TUPz0WfiqIET"
      },
      "execution_count": null,
      "outputs": []
    }
  ]
}