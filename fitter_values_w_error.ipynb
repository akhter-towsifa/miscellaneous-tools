{
 "cells": [
  {
   "cell_type": "code",
   "execution_count": null,
   "id": "2b2cdd90",
   "metadata": {},
   "outputs": [],
   "source": [
    "import pandas as pd\n",
    "import matplotlib.pyplot as plt"
   ]
  },
  {
   "cell_type": "code",
   "execution_count": null,
   "id": "a45e15a2",
   "metadata": {},
   "outputs": [],
   "source": [
    "tracker_prop_file = pd.read_csv('./Run2025C_muon0_ZMu_150X_dataRun3_Prompt_v1_trackerprop_all.csv', header=None)\n",
    "tracker_prop_file.columns = [\"detId\", \"dx\", \"dy\", \"dz\", \"dphix\", \"dphiy\", \"dphiz\", \"n_muons\"]\n",
    "tracker_prop_file.insert(1, \"chamber\", [-1*int((abs(i)%1000)/10) if i<0 else int((i%1000)/10) for i in tracker_prop_file['detId']])\n",
    "tracker_prop_file.insert(2, \"layer\", [abs(i)%10 for i in tracker_prop_file['detId']])\n",
    "\n",
    "tracker_error_file = pd.read_csv('./Run2025C_muon0_ZMu_150X_dataRun3_Prompt_v1_trackerprop_error.csv', header=None)\n",
    "tracker_error_file.columns = [\"detId\", \"dx\", \"dy\", \"dz\", \"dphix\", \"dphiy\", \"dphiz\", \"n_muons\"]\n",
    "tracker_error_file.insert(1, \"chamber\", [-1*int((abs(i)%1000)/10) if i<0 else int((i%1000)/10) for i in tracker_error_file['detId']])\n",
    "tracker_error_file.insert(2, \"layer\", [abs(i)%10 for i in tracker_error_file['detId']])"
   ]
  },
  {
   "cell_type": "code",
   "execution_count": null,
   "id": "7973db72",
   "metadata": {
    "scrolled": false
   },
   "outputs": [],
   "source": [
    "print(tracker_prop_file[:10])\n",
    "print(tracker_error_file[:10])"
   ]
  },
  {
   "cell_type": "code",
   "execution_count": null,
   "id": "ecb358a8",
   "metadata": {},
   "outputs": [],
   "source": [
    "tracker_prop_lay_1 = tracker_prop_file[tracker_prop_file['layer']==1]\n",
    "tracker_prop_lay_2 = tracker_prop_file[tracker_prop_file['layer']==2]\n",
    "\n",
    "tracker_error_lay_1 = tracker_error_file[tracker_error_file['layer']==1]\n",
    "tracker_error_lay_2 = tracker_error_file[tracker_error_file['layer']==2]"
   ]
  },
  {
   "cell_type": "code",
   "execution_count": null,
   "id": "411d1ee2",
   "metadata": {},
   "outputs": [],
   "source": [
    "fig_x, ax_x = plt.subplots(figsize=(10, 6), layout='constrained')\n",
    "ax_x.plot([-36,36], [0,0], '--g', label='0 diff' )\n",
    "ax_x.plot([-4,-4], [0,0], '+r', label='dead ME11')\n",
    "ax_x.plot([15,15], [0,0], '+r')\n",
    "ax_x.plot([-6,-6], [0,0], 'xb', label='extracted GE11')\n",
    "ax_x.plot([-7,-7], [0,0], 'xb')\n",
    "ax_x.plot([-8,-8], [0,0], 'xb')\n",
    "\n",
    "ax_x.errorbar(tracker_prop_lay_1['chamber'], tracker_prop_lay_1['dphiz'], yerr=tracker_error_lay_1['dphiz'].to_list(), fmt='.', label='layer 1')\n",
    "ax_x.errorbar(tracker_prop_lay_2['chamber'], tracker_prop_lay_2['dphiz'], yerr=tracker_error_lay_2['dphiz'].to_list(), fmt='.', label='layer 2')\n",
    "ax_x.set_xlabel('GE(+/-) 1/1 chamber')\n",
    "ax_x.set_ylabel('dphi_z [in mRad]')\n",
    "ax_x.set_title('phi_z rotation from tracker prop method over GE1/1 chambers')\n",
    "# ax_x.axis([-37,37, -0.02, 0.02])\n",
    "ax_x.grid(True)\n",
    "ax_x.legend()\n",
    "\n",
    "plt.savefig('dphiz_err.pdf')"
   ]
  },
  {
   "cell_type": "code",
   "execution_count": null,
   "id": "8a0f2482",
   "metadata": {},
   "outputs": [],
   "source": []
  },
  {
   "cell_type": "code",
   "execution_count": null,
   "id": "9b726285",
   "metadata": {},
   "outputs": [],
   "source": []
  },
  {
   "cell_type": "code",
   "execution_count": null,
   "id": "7410fbf1",
   "metadata": {},
   "outputs": [],
   "source": [
    "back_prop_file = pd.read_csv('./Run2025C_muon0_ZMu_150X_dataRun3_Prompt_v1_backprop.csv', header=None)\n",
    "back_prop_file.columns = [\"detId\", \"dx\", \"dy\", \"dz\", \"dphix\", \"dphiy\", \"dphiz\", \"n_muons\"]\n",
    "back_prop_file.insert(1, \"chamber\", [-1*int((abs(i)%1000)/10) if i<0 else int((i%1000)/10) for i in back_prop_file['detId']])\n",
    "back_prop_file.insert(2, \"layer\", [abs(i)%10 for i in back_prop_file['detId']])\n",
    "\n",
    "back_error_file = pd.read_csv('./Run2025C_muon0_ZMu_150X_dataRun3_Prompt_v1_backprop_error.csv', header=None)\n",
    "back_error_file.columns = [\"detId\", \"dx\", \"dy\", \"dz\", \"dphix\", \"dphiy\", \"dphiz\", \"n_muons\"]\n",
    "back_error_file.insert(1, \"chamber\", [-1*int((abs(i)%1000)/10) if i<0 else int((i%1000)/10) for i in back_error_file['detId']])\n",
    "back_error_file.insert(2, \"layer\", [abs(i)%10 for i in back_error_file['detId']])"
   ]
  },
  {
   "cell_type": "code",
   "execution_count": null,
   "id": "33977bf6",
   "metadata": {},
   "outputs": [],
   "source": [
    "print(back_prop_file[:10])\n",
    "print(back_error_file[:10])"
   ]
  },
  {
   "cell_type": "code",
   "execution_count": null,
   "id": "d919a1a1",
   "metadata": {},
   "outputs": [],
   "source": [
    "back_prop_lay_1 = back_prop_file[back_prop_file['layer']==1]\n",
    "back_prop_lay_2 = back_prop_file[back_prop_file['layer']==2]\n",
    "\n",
    "back_error_lay_1 = back_error_file[back_error_file['layer']==1]\n",
    "back_error_lay_2 = back_error_file[back_error_file['layer']==2]"
   ]
  },
  {
   "cell_type": "code",
   "execution_count": null,
   "id": "4e8d77c9",
   "metadata": {},
   "outputs": [],
   "source": [
    "fig, ax = plt.subplots(figsize=(10, 6), layout='constrained')\n",
    "ax.plot([-36,36], [0,0], '--g', label='0 diff' )\n",
    "ax.plot([-4,-4], [0,0], '+r', label='dead ME11')\n",
    "ax.plot([15,15], [0,0], '+r')\n",
    "ax.plot([-6,-6], [0,0], 'xb', label='extracted GE11')\n",
    "ax.plot([-7,-7], [0,0], 'xb')\n",
    "ax.plot([-8,-8], [0,0], 'xb')\n",
    "\n",
    "ax.errorbar(back_prop_lay_1['chamber'], back_prop_lay_1['dx'], yerr=back_error_lay_1['dx'].to_list(), fmt='.', label='layer 1')\n",
    "ax.errorbar(back_prop_lay_2['chamber'], back_prop_lay_2['dx'], yerr=back_error_lay_2['dx'].to_list(), fmt='.', label='layer 2')\n",
    "ax.set_xlabel('GE(+/-) 1/1 chamber')\n",
    "ax.set_ylabel('dx [in cm]')\n",
    "ax.set_title('x shift from back prop method over GE1/1 chambers')\n",
    "# ax.axis([-37,37, -0.02, 0.02])\n",
    "ax.grid(True)\n",
    "ax.legend()\n",
    "\n",
    "plt.savefig('dx_back_err.pdf')"
   ]
  },
  {
   "cell_type": "code",
   "execution_count": null,
   "id": "6c53ec67",
   "metadata": {},
   "outputs": [],
   "source": []
  }
 ],
 "metadata": {
  "kernelspec": {
   "display_name": "Python 3",
   "language": "python",
   "name": "python3"
  },
  "language_info": {
   "codemirror_mode": {
    "name": "ipython",
    "version": 3
   },
   "file_extension": ".py",
   "mimetype": "text/x-python",
   "name": "python",
   "nbconvert_exporter": "python",
   "pygments_lexer": "ipython3",
   "version": "3.11.9"
  }
 },
 "nbformat": 4,
 "nbformat_minor": 5
}
